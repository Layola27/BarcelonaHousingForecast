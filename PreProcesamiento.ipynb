{
  "nbformat": 4,
  "nbformat_minor": 0,
  "metadata": {
    "colab": {
      "provenance": []
    },
    "kernelspec": {
      "name": "python3",
      "display_name": "Python 3"
    },
    "language_info": {
      "name": "python"
    }
  },
  "cells": [
    {
      "cell_type": "code",
      "execution_count": null,
      "metadata": {
        "colab": {
          "base_uri": "https://localhost:8080/"
        },
        "id": "DL6nE_MhdgDr",
        "outputId": "262d192e-1c3e-4d50-857d-1055508e4338"
      },
      "outputs": [
        {
          "output_type": "stream",
          "name": "stdout",
          "text": [
            "Drive already mounted at /content/drive; to attempt to forcibly remount, call drive.mount(\"/content/drive\", force_remount=True).\n"
          ]
        }
      ],
      "source": [
        "from google.colab import drive\n",
        "drive.mount('/content/drive')"
      ]
    },
    {
      "cell_type": "code",
      "source": [
        "import pandas as pd\n",
        "file_path = \"/content/drive/MyDrive/Dataset Idealista/pisosBarcelona-04-04-2025.csv\"\n",
        "df = pd.read_csv(file_path, encoding='latin1')"
      ],
      "metadata": {
        "id": "DU5OHY98yyHx"
      },
      "execution_count": null,
      "outputs": []
    },
    {
      "cell_type": "markdown",
      "source": [
        "ELIMINAR INNECESARIAS"
      ],
      "metadata": {
        "id": "45GtHhT10_lO"
      }
    },
    {
      "cell_type": "code",
      "source": [
        "import pandas as pd\n",
        "\n",
        "# Asumiendo que tu DataFrame se llama 'df'\n",
        "columnas_a_eliminar = [\n",
        "    'thumbnail', 'externalReference', 'showAddress', 'distance',\n",
        "    'change', 'suggestedTexts', 'savedAd', 'notes'\n",
        "]\n",
        "\n",
        "# Elimina las columnas y actualiza df\n",
        "df = df.drop(columns=columnas_a_eliminar, errors='ignore')\n",
        "\n",
        "# Opcional: verifica las columnas restantes\n",
        "# print(df.columns)"
      ],
      "metadata": {
        "id": "U833MaDwzYZ3"
      },
      "execution_count": null,
      "outputs": []
    },
    {
      "cell_type": "markdown",
      "source": [
        "CONVERTIR JSON"
      ],
      "metadata": {
        "id": "7ySFo9VE0vHn"
      }
    },
    {
      "cell_type": "code",
      "source": [
        "import pandas as pd\n",
        "import ast # Para evaluar strings como literales de Python de forma segura\n",
        "\n",
        "# Asumiendo que tu DataFrame se llama 'df'\n",
        "\n",
        "# --- Helper Function ---\n",
        "def safe_get_from_str_dict(string_dict, key, default=None):\n",
        "    \"\"\"\n",
        "    Intenta parsear un string que representa un dict y obtener un valor.\n",
        "    Maneja errores y valores no string/NaN.\n",
        "    \"\"\"\n",
        "    try:\n",
        "        # Si no es string o es NaN, retorna el default directamente\n",
        "        if not isinstance(string_dict, str) or pd.isna(string_dict):\n",
        "            return default\n",
        "        # Parsea el string a un diccionario\n",
        "        data = ast.literal_eval(string_dict)\n",
        "        # Si es un diccionario, obtén el valor; si no, retorna default\n",
        "        return data.get(key, default) if isinstance(data, dict) else default\n",
        "    except (ValueError, SyntaxError):\n",
        "        # Si el string no es un literal válido (ej: mal formado)\n",
        "        return default\n",
        "\n",
        "# --- Extracción ---\n",
        "\n",
        "# 1. De 'detailedType' obtener 'subTypology'\n",
        "df['subTypology'] = df['detailedType'].apply(lambda x: safe_get_from_str_dict(x, 'subTypology'))\n",
        "\n",
        "# 2. De 'parkingSpace' obtener 'hasParking' y 'isParkingIncludedInPrice'\n",
        "# Usamos default=False y convertimos a booleano explícitamente\n",
        "df['hasParking'] = df['parkingSpace'].apply(\n",
        "    lambda x: safe_get_from_str_dict(x, 'hasParkingSpace', default=False)\n",
        ").astype(bool)\n",
        "df['isParkingIncludedInPrice'] = df['parkingSpace'].apply(\n",
        "    lambda x: safe_get_from_str_dict(x, 'isParkingSpaceIncludedInPrice', default=False)\n",
        ").astype(bool)\n",
        "\n",
        "# 3. De 'highlight' obtener 'highlight_type'\n",
        "df['highlight_type'] = df['highlight'].apply(lambda x: safe_get_from_str_dict(x, 'groupDescription'))\n",
        "\n",
        "# --- Limpieza ---\n",
        "\n",
        "# 4. Eliminar las columnas originales\n",
        "df = df.drop(columns=['detailedType', 'parkingSpace', 'highlight'], errors='ignore')\n",
        "\n",
        "# --- Opcional: Verificar las nuevas columnas ---\n",
        "print(df[['subTypology', 'hasParking', 'isParkingIncludedInPrice', 'highlight_type']].head())\n",
        "print(df[['hasParking', 'isParkingIncludedInPrice']].dtypes) # Verificar que sean booleanas"
      ],
      "metadata": {
        "id": "Fh-klbTgzdff"
      },
      "execution_count": null,
      "outputs": []
    },
    {
      "cell_type": "code",
      "source": [
        "\n",
        "# --- Opcional: Verificar las nuevas columnas ---\n",
        "print(df[['subTypology', 'hasParking', 'isParkingIncludedInPrice', 'highlight_type']].head())\n",
        "print(df[['hasParking', 'isParkingIncludedInPrice']].dtypes) # Verificar que sean booleanas"
      ],
      "metadata": {
        "colab": {
          "base_uri": "https://localhost:8080/"
        },
        "id": "599Xl5_z1EQm",
        "outputId": "0170361d-b453-45a2-970a-baa3b95ec9bf"
      },
      "execution_count": null,
      "outputs": [
        {
          "output_type": "stream",
          "name": "stdout",
          "text": [
            "        subTypology  hasParking  isParkingIncludedInPrice highlight_type\n",
            "0              None       False                     False           None\n",
            "1              None       False                     False      Destacado\n",
            "2              None       False                     False      Destacado\n",
            "3  independantHouse       False                     False           None\n",
            "4              None       False                     False           None\n",
            "hasParking                  bool\n",
            "isParkingIncludedInPrice    bool\n",
            "dtype: object\n"
          ]
        }
      ]
    },
    {
      "cell_type": "code",
      "source": [
        "df.to_csv('/content/drive/MyDrive/Dataset Idealista/pisosBarcelona-04-04-2025-clean.csv', index=False)"
      ],
      "metadata": {
        "id": "iMQqODUQ1UKG"
      },
      "execution_count": null,
      "outputs": []
    }
  ]
}