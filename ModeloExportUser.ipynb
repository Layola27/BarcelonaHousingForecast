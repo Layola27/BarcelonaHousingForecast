{
  "nbformat": 4,
  "nbformat_minor": 0,
  "metadata": {
    "colab": {
      "provenance": [],
      "mount_file_id": "1O7U-_e-9Nqdno8DUqIuWimdri37NLCGb",
      "authorship_tag": "ABX9TyNDJWfP0WsdjBcge3Evr/bT"
    },
    "kernelspec": {
      "name": "python3",
      "display_name": "Python 3"
    },
    "language_info": {
      "name": "python"
    }
  },
  "cells": [
    {
      "cell_type": "markdown",
      "source": [
        "CARGA Y LIMPIEZA PARA EL MODELO\n",
        "\n",
        "---\n",
        "\n"
      ],
      "metadata": {
        "id": "nepguPZZayma"
      }
    },
    {
      "cell_type": "code",
      "execution_count": 69,
      "metadata": {
        "id": "vFcNwz2pdCQt",
        "colab": {
          "base_uri": "https://localhost:8080/"
        },
        "outputId": "73cae51c-24aa-4e06-b755-5a87ddcf53ca"
      },
      "outputs": [
        {
          "output_type": "stream",
          "name": "stdout",
          "text": [
            "Drive already mounted at /content/drive; to attempt to forcibly remount, call drive.mount(\"/content/drive\", force_remount=True).\n"
          ]
        }
      ],
      "source": [
        "from google.colab import drive\n",
        "drive.mount('/content/drive')"
      ]
    },
    {
      "cell_type": "code",
      "source": [
        "import pandas as pd\n",
        "file_path = \"/content/drive/MyDrive/Dataset Idealista/pisosBarcelona-21-04-2025-clean.csv\"\n",
        "df = pd.read_csv(file_path, encoding='latin1')\n",
        "print(\"Datos cargados exitosamente.\")\n",
        "print(f\"Dimensiones iniciales: {df.shape}\")\n",
        "print(\"-\" * 30)"
      ],
      "metadata": {
        "id": "joSv5FtMdcIj",
        "outputId": "5839b243-8786-465f-9776-86b7c50ef88c",
        "colab": {
          "base_uri": "https://localhost:8080/"
        }
      },
      "execution_count": 70,
      "outputs": [
        {
          "output_type": "stream",
          "name": "stdout",
          "text": [
            "Datos cargados exitosamente.\n",
            "Dimensiones iniciales: (8478, 37)\n",
            "------------------------------\n"
          ]
        }
      ]
    },
    {
      "cell_type": "code",
      "source": [
        "# BLOQUE 1: Importar Librerías y Cargar Datos (Sin Cambios)\n",
        "print(\"--- BLOQUE 1: Importar Librerías y Cargar Datos ---\")\n",
        "import pandas as pd\n",
        "import numpy as np\n",
        "import matplotlib.pyplot as plt\n",
        "import seaborn as sns\n",
        "from geopy.distance import geodesic # Para calcular distancias\n",
        "from sklearn.model_selection import train_test_split\n",
        "# Cambiamos el modelo a importar\n",
        "import xgboost as xgb\n",
        "from sklearn.metrics import mean_absolute_error, mean_squared_error, r2_score\n",
        "from sklearn.preprocessing import StandardScaler\n",
        "# Importamos KMeans para clustering\n",
        "from sklearn.cluster import KMeans\n",
        "\n",
        "# Instalar geopy y xgboost si no están instalados (ejecutar en celdas separadas si es necesario)\n",
        "!pip install geopy\n",
        "!pip install xgboost"
      ],
      "metadata": {
        "id": "Qw_arBiTeqyF",
        "outputId": "8373c922-9306-454f-947e-932a2363ca3e",
        "colab": {
          "base_uri": "https://localhost:8080/"
        }
      },
      "execution_count": 71,
      "outputs": [
        {
          "output_type": "stream",
          "name": "stdout",
          "text": [
            "--- BLOQUE 1: Importar Librerías y Cargar Datos ---\n",
            "Requirement already satisfied: geopy in /usr/local/lib/python3.11/dist-packages (2.4.1)\n",
            "Requirement already satisfied: geographiclib<3,>=1.52 in /usr/local/lib/python3.11/dist-packages (from geopy) (2.0)\n",
            "Requirement already satisfied: xgboost in /usr/local/lib/python3.11/dist-packages (2.1.4)\n",
            "Requirement already satisfied: numpy in /usr/local/lib/python3.11/dist-packages (from xgboost) (2.0.2)\n",
            "Requirement already satisfied: nvidia-nccl-cu12 in /usr/local/lib/python3.11/dist-packages (from xgboost) (2.21.5)\n",
            "Requirement already satisfied: scipy in /usr/local/lib/python3.11/dist-packages (from xgboost) (1.14.1)\n"
          ]
        }
      ]
    },
    {
      "cell_type": "code",
      "source": [
        "# BLOQUE 2: Limpieza de la Columna 'floor' (Sin Cambios)\n",
        "print(\"--- BLOQUE 2: Limpieza de la columna 'floor' ---\")\n",
        "floor_mapping = { 'bj': 0.0, 'en': 0.5, 'ss': -1.0 }\n",
        "df['floor'] = df['floor'].replace(floor_mapping)\n",
        "df['floor'] = pd.to_numeric(df['floor'], errors='coerce')\n",
        "median_floor = df['floor'].median()\n",
        "print(f\"Mediana calculada para 'floor': {median_floor}\")\n",
        "df['floor'].fillna(median_floor, inplace=True)\n",
        "print(\"'floor' limpiado e imputado.\")\n",
        "print(f\"Valores nulos restantes en 'floor': {df['floor'].isnull().sum()}\")\n",
        "print(\"-\" * 30)"
      ],
      "metadata": {
        "id": "Gc3WggS9e04S",
        "outputId": "d0b50079-9a5a-4eae-cc2f-d56f2a1eb328",
        "colab": {
          "base_uri": "https://localhost:8080/"
        }
      },
      "execution_count": 72,
      "outputs": [
        {
          "output_type": "stream",
          "name": "stdout",
          "text": [
            "--- BLOQUE 2: Limpieza de la columna 'floor' ---\n",
            "Mediana calculada para 'floor': 2.0\n",
            "'floor' limpiado e imputado.\n",
            "Valores nulos restantes en 'floor': 0\n",
            "------------------------------\n"
          ]
        },
        {
          "output_type": "stream",
          "name": "stderr",
          "text": [
            "<ipython-input-72-66b8e354b873>:8: FutureWarning: A value is trying to be set on a copy of a DataFrame or Series through chained assignment using an inplace method.\n",
            "The behavior will change in pandas 3.0. This inplace method will never work because the intermediate object on which we are setting values always behaves as a copy.\n",
            "\n",
            "For example, when doing 'df[col].method(value, inplace=True)', try using 'df.method({col: value}, inplace=True)' or df[col] = df[col].method(value) instead, to perform the operation inplace on the original object.\n",
            "\n",
            "\n",
            "  df['floor'].fillna(median_floor, inplace=True)\n"
          ]
        }
      ]
    },
    {
      "cell_type": "code",
      "source": [
        "# BLOQUE 3: Limpieza de la Columna 'exterior' (Sin Cambios)\n",
        "print(\"--- BLOQUE 3: Limpieza de la columna 'exterior' ---\")\n",
        "df['exterior'] = df['exterior'].replace({'Unknown': np.nan, True: 1, False: 0})\n",
        "df['exterior'] = pd.to_numeric(df['exterior'], errors='coerce')\n",
        "mode_exterior = df['exterior'].mode()[0]\n",
        "print(f\"Moda calculada para 'exterior': {mode_exterior}\")\n",
        "df['exterior'].fillna(mode_exterior, inplace=True)\n",
        "df['exterior'] = df['exterior'].astype(int)\n",
        "print(\"'exterior' limpiado e imputado.\")\n",
        "print(f\"Valores nulos restantes en 'exterior': {df['exterior'].isnull().sum()}\")\n",
        "print(\"-\" * 30)"
      ],
      "metadata": {
        "id": "51ZqyJlgfI7v",
        "outputId": "a2005f66-e3c0-4743-cd6a-e1f3dd0cc3b7",
        "colab": {
          "base_uri": "https://localhost:8080/"
        }
      },
      "execution_count": 73,
      "outputs": [
        {
          "output_type": "stream",
          "name": "stdout",
          "text": [
            "--- BLOQUE 3: Limpieza de la columna 'exterior' ---\n",
            "Moda calculada para 'exterior': 1.0\n",
            "'exterior' limpiado e imputado.\n",
            "Valores nulos restantes en 'exterior': 0\n",
            "------------------------------\n"
          ]
        },
        {
          "output_type": "stream",
          "name": "stderr",
          "text": [
            "<ipython-input-73-c7571db5a37e>:3: FutureWarning: Downcasting behavior in `replace` is deprecated and will be removed in a future version. To retain the old behavior, explicitly call `result.infer_objects(copy=False)`. To opt-in to the future behavior, set `pd.set_option('future.no_silent_downcasting', True)`\n",
            "  df['exterior'] = df['exterior'].replace({'Unknown': np.nan, True: 1, False: 0})\n",
            "<ipython-input-73-c7571db5a37e>:7: FutureWarning: A value is trying to be set on a copy of a DataFrame or Series through chained assignment using an inplace method.\n",
            "The behavior will change in pandas 3.0. This inplace method will never work because the intermediate object on which we are setting values always behaves as a copy.\n",
            "\n",
            "For example, when doing 'df[col].method(value, inplace=True)', try using 'df.method({col: value}, inplace=True)' or df[col] = df[col].method(value) instead, to perform the operation inplace on the original object.\n",
            "\n",
            "\n",
            "  df['exterior'].fillna(mode_exterior, inplace=True)\n"
          ]
        }
      ]
    },
    {
      "cell_type": "code",
      "source": [
        "# BLOQUE 4: Unificar Variables de Parking (Sin Cambios)\n",
        "print(\"--- BLOQUE 4: Unificar Variables de Parking ---\")\n",
        "conditions = [\n",
        "    (df['hasParking'] == 1) & (df['isParkingIncludedInPrice'] == 1),\n",
        "    (df['hasParking'] == 1) & (df['isParkingIncludedInPrice'] == 0),\n",
        "    (df['hasParking'] == 0) ]\n",
        "choices = ['Included', 'Optional/Not Included', 'None']\n",
        "df['parking_status'] = np.select(conditions, choices, default='Unknown')\n",
        "df.drop(['hasParking', 'isParkingIncludedInPrice'], axis=1, inplace=True)\n",
        "print(\"Columna 'parking_status' creada y originales eliminadas.\")\n",
        "print(\"-\" * 30)"
      ],
      "metadata": {
        "id": "8213Y0hpfMvu",
        "outputId": "b15c034e-fe4c-46e9-a7ca-a06d607c8b46",
        "colab": {
          "base_uri": "https://localhost:8080/"
        }
      },
      "execution_count": 74,
      "outputs": [
        {
          "output_type": "stream",
          "name": "stdout",
          "text": [
            "--- BLOQUE 4: Unificar Variables de Parking ---\n",
            "Columna 'parking_status' creada y originales eliminadas.\n",
            "------------------------------\n"
          ]
        }
      ]
    },
    {
      "cell_type": "code",
      "source": [
        "# BLOQUE 5: Seleccionar Columnas Relevantes Iniciales + Crear Copia (Sin Cambios)\n",
        "print(\"--- BLOQUE 5: Seleccionar Columnas Relevantes Iniciales + Crear Copia ---\")\n",
        "relevant_columns = [\n",
        "    'price', 'size', 'rooms', 'bathrooms', 'floor', 'hasLift', 'exterior',\n",
        "    'propertyType', 'status', 'parking_status', 'latitude', 'longitude' ]\n",
        "df_model = df[relevant_columns].copy()\n",
        "print(f\"DataFrame 'df_model' creado con {df_model.shape[1]} columnas relevantes.\")\n",
        "print(\"-\" * 30)"
      ],
      "metadata": {
        "id": "FtBHlW5LfRBj",
        "outputId": "053c780e-0637-421b-b88d-8f99fd8023e0",
        "colab": {
          "base_uri": "https://localhost:8080/"
        }
      },
      "execution_count": 75,
      "outputs": [
        {
          "output_type": "stream",
          "name": "stdout",
          "text": [
            "--- BLOQUE 5: Seleccionar Columnas Relevantes Iniciales + Crear Copia ---\n",
            "DataFrame 'df_model' creado con 12 columnas relevantes.\n",
            "------------------------------\n"
          ]
        }
      ]
    },
    {
      "cell_type": "code",
      "source": [
        "# BLOQUE 6: Feature Engineering - Distancias a POIs (Sin Cambios)\n",
        "print(\"--- BLOQUE 6: Feature Engineering - Distancias a POIs ---\")\n",
        "df_model['latitude'] = pd.to_numeric(df_model['latitude'], errors='coerce')\n",
        "df_model['longitude'] = pd.to_numeric(df_model['longitude'], errors='coerce')\n",
        "rows_before = df_model.shape[0]\n",
        "df_model.dropna(subset=['latitude', 'longitude'], inplace=True)\n",
        "rows_after = df_model.shape[0]\n",
        "if rows_before != rows_after:\n",
        "    print(f\"Advertencia: Se eliminaron {rows_before - rows_after} filas por NaN en lat/lon.\")\n",
        "df_model['coords'] = list(zip(df_model['latitude'], df_model['longitude']))\n",
        "pois = {\n",
        "    'placa_catalunya': (41.3874, 2.1700), 'barceloneta_beach': (41.3790, 2.1885),\n",
        "    'sants_estacio': (41.3793, 2.1400), 'camp_nou': (41.3809, 2.1228),\n",
        "    'parc_guell': (41.4145, 2.1527) }\n",
        "print(\"Calculando distancias a POIs...\")\n",
        "for name, poi_coords in pois.items():\n",
        "    col_name = f'dist_km_{name}'\n",
        "    try:\n",
        "        df_model[col_name] = df_model['coords'].apply(lambda x: geodesic(x, poi_coords).km if pd.notnull(x[0]) and pd.notnull(x[1]) else np.nan)\n",
        "    except Exception as e:\n",
        "        print(f\"Error calculando distancia a {name}: {e}. Columna {col_name} no creada.\")\n",
        "df_model.drop('coords', axis=1, inplace=True)\n",
        "print(\"Distancias a POIs calculadas.\")\n",
        "print(\"-\" * 30)"
      ],
      "metadata": {
        "id": "fJZpo5VbfUTX",
        "outputId": "27f39d32-8bcd-40c4-9e68-31ef389cf9e4",
        "colab": {
          "base_uri": "https://localhost:8080/"
        }
      },
      "execution_count": 76,
      "outputs": [
        {
          "output_type": "stream",
          "name": "stdout",
          "text": [
            "--- BLOQUE 6: Feature Engineering - Distancias a POIs ---\n",
            "Calculando distancias a POIs...\n",
            "Distancias a POIs calculadas.\n",
            "------------------------------\n"
          ]
        }
      ]
    },
    {
      "cell_type": "code",
      "source": [
        "# --- BLOQUE MODIFICADO ---\n",
        "# BLOQUE 7: Feature Engineering - Clustering Geográfico (con k ajustable)\n",
        "print(\"--- BLOQUE 7: Feature Engineering - Clustering Geográfico ---\")\n",
        "\n",
        "# --- AJUSTA ESTE VALOR ---\n",
        "# Prueba diferentes números de clusters (ej: 20, 30, 40, 50) y re-ejecuta desde aquí\n",
        "k_clusters = 40  # <---- Cambia este número para probar diferentes K\n",
        "# --- FIN AJUSTE ---\n",
        "\n",
        "# Seleccionar coordenadas para clustering\n",
        "coords_for_clustering = df_model[['latitude', 'longitude']].copy()\n",
        "\n",
        "# Escalar coordenadas ANTES de clustering\n",
        "scaler_geo = StandardScaler()\n",
        "coords_scaled = scaler_geo.fit_transform(coords_for_clustering)\n",
        "\n",
        "# Definir y ajustar KMeans\n",
        "kmeans = KMeans(n_clusters=k_clusters, random_state=42, n_init='auto')\n",
        "print(f\"Ajustando KMeans con k={k_clusters} clusters...\")\n",
        "kmeans.fit(coords_scaled)\n",
        "\n",
        "# Añadir la etiqueta del cluster al dataframe principal\n",
        "df_model['geo_cluster'] = kmeans.labels_\n",
        "# Convertir a string para que sea tratado como categórico\n",
        "df_model['geo_cluster'] = df_model['geo_cluster'].astype(str)\n",
        "\n",
        "print(f\"Columna 'geo_cluster' creada con {k_clusters} clusters.\")\n",
        "print(\"-\" * 30)\n",
        "\n",
        "# NOTA: Después de cambiar 'k_clusters', debes re-ejecutar todos los bloques\n",
        "# desde este (Bloque 7) hasta el final para ver el impacto en los resultados."
      ],
      "metadata": {
        "id": "X6weqejzfYVN",
        "outputId": "c5d2797f-2405-4543-f190-e7066673f8f1",
        "colab": {
          "base_uri": "https://localhost:8080/"
        }
      },
      "execution_count": 77,
      "outputs": [
        {
          "output_type": "stream",
          "name": "stdout",
          "text": [
            "--- BLOQUE 7: Feature Engineering - Clustering Geográfico ---\n",
            "Ajustando KMeans con k=40 clusters...\n",
            "Columna 'geo_cluster' creada con 40 clusters.\n",
            "------------------------------\n"
          ]
        }
      ]
    },
    {
      "cell_type": "code",
      "source": [
        "# BLOQUE 8: Feature Engineering - Interacciones (Size x Location - Sin Cambios)\n",
        "print(\"--- BLOQUE 8: Feature Engineering - Interacciones (Size x Location) ---\")\n",
        "epsilon = 0.1\n",
        "required_cols_interact = ['size', 'dist_km_placa_catalunya', 'latitude']\n",
        "if all(col in df_model.columns for col in required_cols_interact):\n",
        "    df_model['size_x_inv_dist_catalunya'] = df_model['size'] / (df_model['dist_km_placa_catalunya'] + epsilon)\n",
        "    df_model['size_x_latitude'] = df_model['size'] * df_model['latitude']\n",
        "    print(\"Features de interacción creadas.\")\n",
        "else:\n",
        "    print(\"Advertencia: No se pudieron crear features de interacción.\")\n",
        "print(\"-\" * 30)"
      ],
      "metadata": {
        "id": "Tj6ST0HnfbxL",
        "outputId": "f8d0e178-d058-4523-99e1-ad61380fdfaf",
        "colab": {
          "base_uri": "https://localhost:8080/"
        }
      },
      "execution_count": 78,
      "outputs": [
        {
          "output_type": "stream",
          "name": "stdout",
          "text": [
            "--- BLOQUE 8: Feature Engineering - Interacciones (Size x Location) ---\n",
            "Features de interacción creadas.\n",
            "------------------------------\n"
          ]
        }
      ]
    },
    {
      "cell_type": "code",
      "source": [
        "# BLOQUE 9: Limpiar Columnas Restantes ('hasLift', 'status') (Sin Cambios)\n",
        "print(\"--- BLOQUE 9: Limpiar Columnas Restantes ('hasLift', 'status') ---\")\n",
        "print(\"Limpiando 'hasLift'...\")\n",
        "df_model['hasLift'] = pd.to_numeric(df_model['hasLift'], errors='coerce')\n",
        "df_model['hasLift'].fillna(0, inplace=True) # Imputar con 0\n",
        "df_model['hasLift'] = df_model['hasLift'].astype(int)\n",
        "print(\"\\nLimpiando 'status'...\")\n",
        "nans_status_before = df_model['status'].isnull().sum()\n",
        "if nans_status_before > 0:\n",
        "    mode_status = df_model['status'].mode()[0]\n",
        "    df_model['status'].fillna(mode_status, inplace=True)\n",
        "    print(f\"'status': {nans_status_before} NaNs imputados con la moda ('{mode_status}').\")\n",
        "else:\n",
        "    print(\"'status': No se encontraron NaNs.\")\n",
        "print(\"-\" * 30)"
      ],
      "metadata": {
        "id": "jKWArQmvfeJQ",
        "outputId": "00a4a3ad-930c-4d7d-8b86-a207be7c60b7",
        "colab": {
          "base_uri": "https://localhost:8080/"
        }
      },
      "execution_count": 79,
      "outputs": [
        {
          "output_type": "stream",
          "name": "stdout",
          "text": [
            "--- BLOQUE 9: Limpiar Columnas Restantes ('hasLift', 'status') ---\n",
            "Limpiando 'hasLift'...\n",
            "\n",
            "Limpiando 'status'...\n",
            "'status': 41 NaNs imputados con la moda ('good').\n",
            "------------------------------\n"
          ]
        },
        {
          "output_type": "stream",
          "name": "stderr",
          "text": [
            "<ipython-input-79-36f22e581b29>:5: FutureWarning: A value is trying to be set on a copy of a DataFrame or Series through chained assignment using an inplace method.\n",
            "The behavior will change in pandas 3.0. This inplace method will never work because the intermediate object on which we are setting values always behaves as a copy.\n",
            "\n",
            "For example, when doing 'df[col].method(value, inplace=True)', try using 'df.method({col: value}, inplace=True)' or df[col] = df[col].method(value) instead, to perform the operation inplace on the original object.\n",
            "\n",
            "\n",
            "  df_model['hasLift'].fillna(0, inplace=True) # Imputar con 0\n"
          ]
        }
      ]
    },
    {
      "cell_type": "code",
      "source": [
        "# BLOQUE 10: Aplicar Log Transform al Precio (Sin Cambios)\n",
        "print(\"--- BLOQUE 10: Aplicar Log Transform al Precio ---\")\n",
        "df_model['price_log'] = np.log1p(df_model['price'])\n",
        "df_model_processed = df_model.drop('price', axis=1)\n",
        "print(\"Columna 'price_log' creada y 'price' original eliminada.\")\n",
        "print(\"-\" * 30)"
      ],
      "metadata": {
        "id": "yKY24P9DlBTB",
        "outputId": "381f720c-ef72-4ee7-ba33-34966ec31c1b",
        "colab": {
          "base_uri": "https://localhost:8080/"
        }
      },
      "execution_count": 80,
      "outputs": [
        {
          "output_type": "stream",
          "name": "stdout",
          "text": [
            "--- BLOQUE 10: Aplicar Log Transform al Precio ---\n",
            "Columna 'price_log' creada y 'price' original eliminada.\n",
            "------------------------------\n"
          ]
        }
      ]
    },
    {
      "cell_type": "code",
      "source": [
        "# --- NUEVO/MODIFICADO: Insertar ANTES del Bloque 11 ---\n",
        "# BLOQUE 10.5: Ingeniería sobre 'bathrooms' (Opción 1: Ratio)\n",
        "print(\"--- BLOQUE 10.5: Ingeniería sobre 'bathrooms' (Ratio Baños/Habitaciones) ---\")\n",
        "\n",
        "# Asegurarse que 'rooms' y 'bathrooms' son numéricos\n",
        "df_model_processed['rooms'] = pd.to_numeric(df_model_processed['rooms'], errors='coerce')\n",
        "df_model_processed['bathrooms'] = pd.to_numeric(df_model_processed['bathrooms'], errors='coerce')\n",
        "# Imputar NaNs si la conversión falló (usando mediana o 1 como valor seguro)\n",
        "df_model_processed['rooms'].fillna(df_model_processed['rooms'].median(), inplace=True)\n",
        "df_model_processed['bathrooms'].fillna(df_model_processed['bathrooms'].median(), inplace=True)\n",
        "# Convertir a enteros por seguridad\n",
        "df_model_processed['rooms'] = df_model_processed['rooms'].astype(int)\n",
        "df_model_processed['bathrooms'] = df_model_processed['bathrooms'].astype(int)\n",
        "\n",
        "\n",
        "# Crear ratio baños/habitaciones\n",
        "epsilon_room = 0.01 # Pequeño valor para evitar división por cero exacto\n",
        "# Crear una columna 'rooms_safe' que sea al menos 1\n",
        "df_model_processed['rooms_safe'] = df_model_processed['rooms'].clip(lower=1)\n",
        "\n",
        "# Calcular el ratio\n",
        "df_model_processed['baths_per_room'] = df_model_processed['bathrooms'] / df_model_processed['rooms_safe']\n",
        "\n",
        "# Limpiar columna temporal\n",
        "df_model_processed.drop('rooms_safe', axis=1, inplace=True)\n",
        "\n",
        "# --- ¡CRUCIAL! Eliminar la columna original 'bathrooms' ---\n",
        "if 'bathrooms' in df_model_processed.columns:\n",
        "    df_model_processed.drop('bathrooms', axis=1, inplace=True)\n",
        "    print(\"Columna 'baths_per_room' creada y columna original 'bathrooms' eliminada.\")\n",
        "else:\n",
        "    print(\"Columna 'baths_per_room' creada (columna 'bathrooms' ya no existía).\")\n",
        "\n",
        "# Verificar NaNs en la nueva columna (no debería haber si rooms/bathrooms estaban limpios)\n",
        "print(f\"NaNs en 'baths_per_room': {df_model_processed['baths_per_room'].isnull().sum()}\")\n",
        "# Imputar si es necesario (ej: con la mediana del ratio)\n",
        "if df_model_processed['baths_per_room'].isnull().any():\n",
        "    median_ratio = df_model_processed['baths_per_room'].median()\n",
        "    df_model_processed['baths_per_room'].fillna(median_ratio, inplace=True)\n",
        "    print(f\"NaNs en 'baths_per_room' imputados con {median_ratio:.2f}\")\n",
        "\n",
        "print(\"-\" * 30)\n",
        "# --- FIN BLOQUE 10.5 ---"
      ],
      "metadata": {
        "id": "D-9FcqF7pnfd",
        "outputId": "f42930df-f933-4893-94f2-527df840210b",
        "colab": {
          "base_uri": "https://localhost:8080/"
        }
      },
      "execution_count": 81,
      "outputs": [
        {
          "output_type": "stream",
          "name": "stdout",
          "text": [
            "--- BLOQUE 10.5: Ingeniería sobre 'bathrooms' (Ratio Baños/Habitaciones) ---\n",
            "Columna 'baths_per_room' creada y columna original 'bathrooms' eliminada.\n",
            "NaNs en 'baths_per_room': 0\n",
            "------------------------------\n"
          ]
        },
        {
          "output_type": "stream",
          "name": "stderr",
          "text": [
            "<ipython-input-81-3bb13427c7db>:9: FutureWarning: A value is trying to be set on a copy of a DataFrame or Series through chained assignment using an inplace method.\n",
            "The behavior will change in pandas 3.0. This inplace method will never work because the intermediate object on which we are setting values always behaves as a copy.\n",
            "\n",
            "For example, when doing 'df[col].method(value, inplace=True)', try using 'df.method({col: value}, inplace=True)' or df[col] = df[col].method(value) instead, to perform the operation inplace on the original object.\n",
            "\n",
            "\n",
            "  df_model_processed['rooms'].fillna(df_model_processed['rooms'].median(), inplace=True)\n",
            "<ipython-input-81-3bb13427c7db>:10: FutureWarning: A value is trying to be set on a copy of a DataFrame or Series through chained assignment using an inplace method.\n",
            "The behavior will change in pandas 3.0. This inplace method will never work because the intermediate object on which we are setting values always behaves as a copy.\n",
            "\n",
            "For example, when doing 'df[col].method(value, inplace=True)', try using 'df.method({col: value}, inplace=True)' or df[col] = df[col].method(value) instead, to perform the operation inplace on the original object.\n",
            "\n",
            "\n",
            "  df_model_processed['bathrooms'].fillna(df_model_processed['bathrooms'].median(), inplace=True)\n"
          ]
        }
      ]
    },
    {
      "cell_type": "code",
      "source": [
        "# BLOQUE 11: Codificar Variables Categóricas (One-Hot Encoding - Incluye geo_cluster)\n",
        "print(\"--- BLOQUE 11: Codificar Variables Categóricas (One-Hot Encoding) ---\")\n",
        "# Identificar columnas categóricas (object o category)\n",
        "categorical_cols = df_model_processed.select_dtypes(include=['object', 'category']).columns.tolist()\n",
        "# Asegurarse de que 'geo_cluster' está si existe\n",
        "if 'geo_cluster' in df_model_processed.columns and 'geo_cluster' not in categorical_cols:\n",
        "     categorical_cols.append('geo_cluster')\n",
        "# Asegurarse de que 'baths_per_room' NO esté en la lista (es numérica)\n",
        "if 'baths_per_room' in categorical_cols:\n",
        "    categorical_cols.remove('baths_per_room')\n",
        "\n",
        "print(f\"Columnas categóricas a codificar: {categorical_cols}\")\n",
        "if not categorical_cols:\n",
        "    print(\"No hay columnas categóricas para codificar.\")\n",
        "    df_final = df_model_processed.copy()\n",
        "else:\n",
        "    # Aplicar pd.get_dummies\n",
        "    df_final = pd.get_dummies(df_model_processed, columns=categorical_cols, drop_first=True, dtype=int)\n",
        "    print(\"Variables categóricas codificadas.\")\n",
        "print(f\"Dimensiones después de codificar: {df_final.shape}\")\n",
        "print(\"-\" * 30)"
      ],
      "metadata": {
        "id": "R92sRfgEq87O",
        "outputId": "5b5d8ad5-2f6e-4558-b6b3-966711259e8c",
        "colab": {
          "base_uri": "https://localhost:8080/"
        }
      },
      "execution_count": 82,
      "outputs": [
        {
          "output_type": "stream",
          "name": "stdout",
          "text": [
            "--- BLOQUE 11: Codificar Variables Categóricas (One-Hot Encoding) ---\n",
            "Columnas categóricas a codificar: ['propertyType', 'status', 'parking_status', 'geo_cluster']\n",
            "Variables categóricas codificadas.\n",
            "Dimensiones después de codificar: (8478, 64)\n",
            "------------------------------\n"
          ]
        }
      ]
    },
    {
      "cell_type": "code",
      "source": [
        "# BLOQUE 12: Separar Características (X) y Variable Objetivo (y_log) - Eliminando Lat/Lon crudas\n",
        "print(\"--- BLOQUE 12: Separar Características (X) y Variable Objetivo (y_log) ---\")\n",
        "if 'df_final' not in locals():\n",
        "     print(\"Error: El DataFrame 'df_final' (codificado) no existe.\")\n",
        "else:\n",
        "    # Separamos X (features) de y (objetivo log-transformado)\n",
        "    # Excluimos latitud y longitud originales, y el target 'price_log'\n",
        "    # 'bathrooms' ya fue eliminada en el paso 10.5\n",
        "    features_to_drop = ['price_log', 'latitude', 'longitude']\n",
        "    # Asegurarse de que las columnas existan antes de intentar dropearlas\n",
        "    cols_to_drop_existing = [col for col in features_to_drop if col in df_final.columns]\n",
        "    X = df_final.drop(columns=cols_to_drop_existing)\n",
        "    y_log = df_final['price_log']\n",
        "\n",
        "    print(f\"Dimensiones de X (características): {X.shape}\")\n",
        "    print(f\"Dimensiones de y_log (objetivo log): {y_log.shape}\")\n",
        "    print(\"\\nVerificando columnas en X (ejemplo):\")\n",
        "    print(X.columns[:15].tolist()) # Revisar que 'baths_per_room' esté y 'bathrooms' no\n",
        "    # Verificar si 'bathrooms' está accidentalmente en X\n",
        "    if 'bathrooms' in X.columns:\n",
        "        print(\"¡ADVERTENCIA! La columna 'bathrooms' original todavía está en X.\")\n",
        "    # Verificar si 'baths_per_room' está en X\n",
        "    if 'baths_per_room' in X.columns:\n",
        "        print(\"Confirmado: 'baths_per_room' está en X.\")\n",
        "    else:\n",
        "        print(\"¡ADVERTENCIA! La columna 'baths_per_room' NO está en X.\")\n",
        "\n",
        "    print(\"-\" * 30)"
      ],
      "metadata": {
        "id": "3cZfXj3HrBA4",
        "outputId": "3a1b24d9-6d83-4707-e8bd-4e1236905d19",
        "colab": {
          "base_uri": "https://localhost:8080/"
        }
      },
      "execution_count": 83,
      "outputs": [
        {
          "output_type": "stream",
          "name": "stdout",
          "text": [
            "--- BLOQUE 12: Separar Características (X) y Variable Objetivo (y_log) ---\n",
            "Dimensiones de X (características): (8478, 61)\n",
            "Dimensiones de y_log (objetivo log): (8478,)\n",
            "\n",
            "Verificando columnas en X (ejemplo):\n",
            "['size', 'rooms', 'floor', 'hasLift', 'exterior', 'dist_km_placa_catalunya', 'dist_km_barceloneta_beach', 'dist_km_sants_estacio', 'dist_km_camp_nou', 'dist_km_parc_guell', 'size_x_inv_dist_catalunya', 'size_x_latitude', 'baths_per_room', 'propertyType_countryHouse', 'propertyType_duplex']\n",
            "Confirmado: 'baths_per_room' está en X.\n",
            "------------------------------\n"
          ]
        }
      ]
    },
    {
      "cell_type": "code",
      "source": [
        "# BLOQUE 13: Dividir Datos en Entrenamiento y Prueba (usando y_log)\n",
        "print(\"--- BLOQUE 13: Dividir Datos en Entrenamiento y Prueba ---\")\n",
        "if 'X' not in locals() or 'y_log' not in locals():\n",
        "    print(\"Error: X o y_log no están definidos.\")\n",
        "else:\n",
        "    X_train, X_test, y_log_train, y_log_test = train_test_split(X, y_log, test_size=0.2, random_state=42)\n",
        "    print(f\"Tamaño del conjunto de entrenamiento (X_train): {X_train.shape}\")\n",
        "    print(f\"Tamaño del conjunto de prueba (X_test): {X_test.shape}\")\n",
        "    print(\"-\" * 30)"
      ],
      "metadata": {
        "id": "rSUnChPMrDeb",
        "outputId": "d70d9ffe-79dc-44fd-8160-c57368bd2824",
        "colab": {
          "base_uri": "https://localhost:8080/"
        }
      },
      "execution_count": 84,
      "outputs": [
        {
          "output_type": "stream",
          "name": "stdout",
          "text": [
            "--- BLOQUE 13: Dividir Datos en Entrenamiento y Prueba ---\n",
            "Tamaño del conjunto de entrenamiento (X_train): (6782, 61)\n",
            "Tamaño del conjunto de prueba (X_test): (1696, 61)\n",
            "------------------------------\n"
          ]
        }
      ]
    },
    {
      "cell_type": "code",
      "source": [
        "# BLOQUE 14: Escalar Características Numéricas\n",
        "print(\"--- BLOQUE 14: Escalar Características Numéricas ---\")\n",
        "if 'X_train' not in locals() or 'X_test' not in locals():\n",
        "     print(\"Error: X_train o X_test no existen.\")\n",
        "else:\n",
        "    scaler = StandardScaler()\n",
        "    # Guardar los nombres de columnas antes de escalar\n",
        "    X_train_columns = X_train.columns\n",
        "    X_test_columns = X_test.columns\n",
        "    # Ajustar y transformar\n",
        "    X_train_scaled = scaler.fit_transform(X_train)\n",
        "    X_test_scaled = scaler.transform(X_test)\n",
        "    # Convertir de nuevo a DataFrame con nombres de columnas\n",
        "    X_train_scaled = pd.DataFrame(X_train_scaled, columns=X_train_columns, index=X_train.index)\n",
        "    X_test_scaled = pd.DataFrame(X_test_scaled, columns=X_test_columns, index=X_test.index)\n",
        "    print(\"Escalado completado usando StandardScaler.\")\n",
        "    print(\"-\" * 30)"
      ],
      "metadata": {
        "id": "P4oOU-kcrEoP",
        "outputId": "144d2510-c4ce-4708-e18d-386fa7836b38",
        "colab": {
          "base_uri": "https://localhost:8080/"
        }
      },
      "execution_count": 85,
      "outputs": [
        {
          "output_type": "stream",
          "name": "stdout",
          "text": [
            "--- BLOQUE 14: Escalar Características Numéricas ---\n",
            "Escalado completado usando StandardScaler.\n",
            "------------------------------\n"
          ]
        }
      ]
    },
    {
      "cell_type": "code",
      "source": [
        "# BLOQUE 15: Ajuste de Hiperparámetros con RandomizedSearchCV para XGBoost\n",
        "print(\"--- BLOQUE 15: Ajuste de Hiperparámetros con RandomizedSearchCV ---\")\n",
        "# ¡ESTE BLOQUE PUEDE TARDAR MUCHO TIEMPO EN EJECUTARSE!\n",
        "\n",
        "from sklearn.model_selection import RandomizedSearchCV\n",
        "\n",
        "param_distributions = {\n",
        "    'n_estimators': [100, 200, 300, 500, 700, 1000],\n",
        "    'learning_rate': [0.01, 0.03, 0.05, 0.1, 0.15],\n",
        "    'max_depth': [3, 5, 7, 9, 11, 13],\n",
        "    'subsample': [0.6, 0.7, 0.8, 0.9, 1.0],\n",
        "    'colsample_bytree': [0.6, 0.7, 0.8, 0.9, 1.0],\n",
        "    'min_child_weight': [1, 3, 5, 7],\n",
        "    'gamma': [0, 0.1, 0.2, 0.3, 0.4]\n",
        "}\n",
        "xgb_base = xgb.XGBRegressor(objective='reg:squarederror', random_state=42, n_jobs=-1)\n",
        "n_iter_search = 50 # Ajusta según tiempo disponible\n",
        "cv_folds = 5\n",
        "print(f\"Iniciando RandomizedSearchCV con {n_iter_search} iteraciones y {cv_folds} folds...\")\n",
        "random_search = RandomizedSearchCV(estimator=xgb_base,\n",
        "                                   param_distributions=param_distributions,\n",
        "                                   n_iter=n_iter_search,\n",
        "                                   cv=cv_folds,\n",
        "                                   scoring='neg_mean_absolute_error',\n",
        "                                   n_jobs=-1,\n",
        "                                   random_state=42,\n",
        "                                   verbose=1\n",
        "                                  )\n",
        "# Asegurarse de usar los datos escalados\n",
        "if 'X_train_scaled' not in locals() or 'y_log_train' not in locals():\n",
        "    print(\"Error: X_train_scaled o y_log_train no encontrados.\")\n",
        "else:\n",
        "    random_search.fit(X_train_scaled, y_log_train)\n",
        "    print(\"\\nBúsqueda completada.\")\n",
        "    print(f\"Mejor puntuación (Negative MAE) en CV: {random_search.best_score_:.4f}\")\n",
        "    print(\"Mejores hiperparámetros encontrados:\")\n",
        "    print(random_search.best_params_)\n",
        "    best_xgb_model = random_search.best_estimator_\n",
        "print(\"-\" * 30)"
      ],
      "metadata": {
        "id": "caQivHBtrE3r",
        "outputId": "a0acebcb-6330-4e1d-a832-d09958857f2a",
        "colab": {
          "base_uri": "https://localhost:8080/"
        }
      },
      "execution_count": 86,
      "outputs": [
        {
          "output_type": "stream",
          "name": "stdout",
          "text": [
            "--- BLOQUE 15: Ajuste de Hiperparámetros con RandomizedSearchCV ---\n",
            "Iniciando RandomizedSearchCV con 50 iteraciones y 5 folds...\n",
            "Fitting 5 folds for each of 50 candidates, totalling 250 fits\n",
            "\n",
            "Búsqueda completada.\n",
            "Mejor puntuación (Negative MAE) en CV: -0.1816\n",
            "Mejores hiperparámetros encontrados:\n",
            "{'subsample': 1.0, 'n_estimators': 700, 'min_child_weight': 7, 'max_depth': 9, 'learning_rate': 0.03, 'gamma': 0, 'colsample_bytree': 0.8}\n",
            "------------------------------\n"
          ]
        }
      ]
    },
    {
      "cell_type": "code",
      "source": [
        "# BLOQUE 16: Realizar Predicciones (en escala log) con el MEJOR modelo\n",
        "print(\"--- BLOQUE 16: Realizar Predicciones (en escala log) con el MEJOR modelo ---\")\n",
        "if 'best_xgb_model' not in locals() or 'X_test_scaled' not in locals():\n",
        "     print(\"Error: El mejor modelo XGBoost o X_test_scaled no existen.\")\n",
        "else:\n",
        "    y_log_pred = best_xgb_model.predict(X_test_scaled)\n",
        "    print(\"Predicciones (en escala log) realizadas con el modelo optimizado.\")\n",
        "    print(\"-\" * 30)"
      ],
      "metadata": {
        "id": "hADUHRjtrNcl",
        "outputId": "1c0c93e1-1ba2-412a-fbc9-234bf6460a34",
        "colab": {
          "base_uri": "https://localhost:8080/"
        }
      },
      "execution_count": 87,
      "outputs": [
        {
          "output_type": "stream",
          "name": "stdout",
          "text": [
            "--- BLOQUE 16: Realizar Predicciones (en escala log) con el MEJOR modelo ---\n",
            "Predicciones (en escala log) realizadas con el modelo optimizado.\n",
            "------------------------------\n"
          ]
        }
      ]
    },
    {
      "cell_type": "code",
      "source": [
        "# BLOQUE 17: Evaluar el Rendimiento (revirtiendo Log Transform)\n",
        "print(\"--- BLOQUE 17: Evaluar el Rendimiento (en escala original €) ---\")\n",
        "if 'y_log_test' not in locals() or 'y_log_pred' not in locals():\n",
        "     print(\"Error: y_log_test o y_log_pred no existen.\")\n",
        "else:\n",
        "    y_test_original = np.expm1(y_log_test)\n",
        "    y_pred_original = np.expm1(y_log_pred)\n",
        "    mae = mean_absolute_error(y_test_original, y_pred_original)\n",
        "    mse = mean_squared_error(y_test_original, y_pred_original)\n",
        "    rmse = np.sqrt(mse)\n",
        "    r2 = r2_score(y_test_original, y_pred_original)\n",
        "    print(f\"Mean Absolute Error (MAE): {mae:,.2f} €\")\n",
        "    print(f\"Root Mean Squared Error (RMSE): {rmse:,.2f} €\")\n",
        "    print(f\"R-squared (R²): {r2:.4f}\")\n",
        "    print(\"-\" * 30)"
      ],
      "metadata": {
        "id": "_u3kOcf0rakF",
        "outputId": "09fcedbc-5616-489d-e9c3-a6ecb75fb33b",
        "colab": {
          "base_uri": "https://localhost:8080/"
        }
      },
      "execution_count": 88,
      "outputs": [
        {
          "output_type": "stream",
          "name": "stdout",
          "text": [
            "--- BLOQUE 17: Evaluar el Rendimiento (en escala original €) ---\n",
            "Mean Absolute Error (MAE): 80,181.79 €\n",
            "Root Mean Squared Error (RMSE): 195,921.71 €\n",
            "R-squared (R²): 0.8473\n",
            "------------------------------\n"
          ]
        }
      ]
    },
    {
      "cell_type": "code",
      "source": [
        "# BLOQUE 18: Contextualizar Evaluación (usando valores originales)\n",
        "print(\"--- BLOQUE 18: Contextualizar Evaluación ---\")\n",
        "if 'y_test_original' not in locals() or 'mae' not in locals() or 'r2' not in locals():\n",
        "     print(\"Error: y_test_original, mae o r2 no existen.\")\n",
        "else:\n",
        "    price_mean_orig = np.mean(y_test_original)\n",
        "    price_median_orig = np.median(y_test_original)\n",
        "    print(\"--- Estadísticas del Precio Real (y_test original) ---\")\n",
        "    print(f\"Precio Medio: {price_mean_orig:,.2f} €\")\n",
        "    print(f\"Precio Mediano: {price_median_orig:,.2f} €\")\n",
        "    print(f\"\\nMAE como % del Precio Medio: {(mae / price_mean_orig) * 100:.2f}%\")\n",
        "    print(f\"MAE como % del Precio Mediano: {(mae / price_median_orig) * 100:.2f}%\")\n",
        "    print(f\"\\nInterpretación R²: El modelo explica aprox. el {r2*100:.1f}% de la variabilidad.\")\n",
        "    print(f\"Interpretación MAE: En promedio, las predicciones difieren del real en {mae:,.0f} €.\")\n",
        "    print(\"-\" * 30)"
      ],
      "metadata": {
        "id": "d9OPes7Prb7d",
        "outputId": "ef4804d7-7d40-499a-e388-b618ac7741b0",
        "colab": {
          "base_uri": "https://localhost:8080/"
        }
      },
      "execution_count": 89,
      "outputs": [
        {
          "output_type": "stream",
          "name": "stdout",
          "text": [
            "--- BLOQUE 18: Contextualizar Evaluación ---\n",
            "--- Estadísticas del Precio Real (y_test original) ---\n",
            "Precio Medio: 457,200.94 €\n",
            "Precio Mediano: 325,000.00 €\n",
            "\n",
            "MAE como % del Precio Medio: 17.54%\n",
            "MAE como % del Precio Mediano: 24.67%\n",
            "\n",
            "Interpretación R²: El modelo explica aprox. el 84.7% de la variabilidad.\n",
            "Interpretación MAE: En promedio, las predicciones difieren del real en 80,182 €.\n",
            "------------------------------\n"
          ]
        }
      ]
    },
    {
      "cell_type": "code",
      "source": [
        "# BLOQUE 19: Analizar Importancia de Características (MEJOR XGBoost)\n",
        "print(\"--- BLOQUE 19: Analizar Importancia de Características (MEJOR XGBoost) ---\")\n",
        "# Usamos X_train_scaled porque el modelo se entrenó con datos escalados,\n",
        "# pero los nombres de columnas los tomamos de X_train (DataFrame original antes de escalar)\n",
        "if 'best_xgb_model' not in locals() or 'X_train' not in locals():\n",
        "     print(\"Error: El mejor modelo XGBoost o X_train (para nombres) no existen.\")\n",
        "else:\n",
        "    # Obtener importancias del MEJOR modelo XGBoost\n",
        "    # Usamos X_train.columns para obtener los nombres correctos\n",
        "    feature_importances = pd.Series(best_xgb_model.feature_importances_, index=X_train.columns)\n",
        "    feature_importances = feature_importances.sort_values(ascending=False)\n",
        "    print(\"Importancia de las características (Top 20) - Modelo Optimizado:\")\n",
        "    print(feature_importances.head(20))\n",
        "    # Graficar\n",
        "    n_features_to_plot = 20\n",
        "    plt.figure(figsize=(10, 8))\n",
        "    # Asegurarse de que hay suficientes features para graficar\n",
        "    num_features = min(n_features_to_plot, len(feature_importances))\n",
        "    sns.barplot(x=feature_importances.head(num_features), y=feature_importances.head(num_features).index)\n",
        "    plt.title(f'Importancia de las {num_features} Características Principales (XGBoost Optimizado)')\n",
        "    plt.xlabel('Importancia (F score)')\n",
        "    plt.ylabel('Característica')\n",
        "    plt.tight_layout()\n",
        "    plt.show()\n",
        "    print(\"-\" * 30)"
      ],
      "metadata": {
        "id": "L7nZ9o9-rcuh",
        "outputId": "e3d52014-43ff-4337-da03-9eedefdf5d45",
        "colab": {
          "base_uri": "https://localhost:8080/",
          "height": 1000
        }
      },
      "execution_count": 90,
      "outputs": [
        {
          "output_type": "stream",
          "name": "stdout",
          "text": [
            "--- BLOQUE 19: Analizar Importancia de Características (MEJOR XGBoost) ---\n",
            "Importancia de las características (Top 20) - Modelo Optimizado:\n",
            "size_x_latitude              0.142514\n",
            "size                         0.118235\n",
            "hasLift                      0.071480\n",
            "parking_status_None          0.061403\n",
            "size_x_inv_dist_catalunya    0.048470\n",
            "geo_cluster_6                0.034048\n",
            "status_newdevelopment        0.033460\n",
            "geo_cluster_23               0.027556\n",
            "geo_cluster_25               0.019331\n",
            "geo_cluster_27               0.017016\n",
            "baths_per_room               0.017010\n",
            "geo_cluster_14               0.016854\n",
            "geo_cluster_29               0.015825\n",
            "geo_cluster_2                0.014542\n",
            "status_renew                 0.014348\n",
            "propertyType_studio          0.014184\n",
            "geo_cluster_36               0.013953\n",
            "propertyType_duplex          0.013399\n",
            "dist_km_parc_guell           0.012979\n",
            "propertyType_penthouse       0.011946\n",
            "dtype: float32\n"
          ]
        },
        {
          "output_type": "display_data",
          "data": {
            "text/plain": [
              "<Figure size 1000x800 with 1 Axes>"
            ],
            "image/png": "[encoded data removed]"
          },
          "metadata": {}
        },
        {
          "output_type": "stream",
          "name": "stdout",
          "text": [
            "------------------------------\n"
          ]
        }
      ]
    },
    {
      "cell_type": "code",
      "source": [
        "# --- NUEVO BLOQUE ---\n",
        "# BLOQUE 20: Agregar Importancia de Características para 'geo_cluster'\n",
        "print(\"--- BLOQUE 20: Agregar Importancia de Características para 'geo_cluster' ---\")\n",
        "\n",
        "# Asegurarse de que la serie de importancias existe del bloque anterior\n",
        "if 'feature_importances' not in locals():\n",
        "     print(\"Error: La serie 'feature_importances' no existe. Ejecuta el bloque 19 primero.\")\n",
        "else:\n",
        "    # Identificar todas las columnas que son dummies de geo_cluster\n",
        "    cluster_dummy_features = [col for col in feature_importances.index if col.startswith('geo_cluster_')]\n",
        "\n",
        "    if not cluster_dummy_features:\n",
        "        print(\"No se encontraron características dummy de 'geo_cluster'. Revisar nombres de columnas.\")\n",
        "        aggregated_importance = feature_importances.copy() # Continuar con la original\n",
        "    else:\n",
        "        # Calcular la suma de importancia de todos los dummies de cluster\n",
        "        total_cluster_importance = feature_importances[cluster_dummy_features].sum()\n",
        "        print(f\"Importancia total agregada para 'geo_cluster': {total_cluster_importance:.4f}\")\n",
        "\n",
        "        # Crear una nueva serie eliminando los dummies individuales\n",
        "        importance_no_clusters = feature_importances.drop(labels=cluster_dummy_features)\n",
        "\n",
        "        # Crear un diccionario para la nueva serie agregada\n",
        "        aggregated_importance_dict = importance_no_clusters.to_dict()\n",
        "        # Añadir la importancia agregada de los clusters\n",
        "        aggregated_importance_dict['geo_cluster (Total)'] = total_cluster_importance\n",
        "\n",
        "        # Convertir de nuevo a Series para ordenar y graficar\n",
        "        aggregated_importance = pd.Series(aggregated_importance_dict)\n",
        "\n",
        "        # Ordenar la nueva serie de importancia agregada\n",
        "        aggregated_importance = aggregated_importance.sort_values(ascending=False)\n",
        "\n",
        "    # Mostrar la nueva lista de importancia agregada (Top 20)\n",
        "    print(\"\\nImportancia de características (con 'geo_cluster' agregado) - Top 20:\")\n",
        "    print(aggregated_importance.head(20))\n",
        "\n",
        "    # Graficar la importancia agregada\n",
        "    n_features_to_plot_agg = 20\n",
        "    plt.figure(figsize=(10, 8))\n",
        "    # Asegurarse de que hay suficientes features para graficar\n",
        "    features_to_plot = aggregated_importance.head(n_features_to_plot_agg)\n",
        "    sns.barplot(x=features_to_plot.values, y=features_to_plot.index)\n",
        "    plt.title(f'Importancia Agregada de las {len(features_to_plot)} Características Principales')\n",
        "    plt.xlabel('Importancia Relativa')\n",
        "    plt.ylabel('Característica')\n",
        "    plt.tight_layout()\n",
        "    plt.show()\n",
        "    print(\"-\" * 30)"
      ],
      "metadata": {
        "id": "wvae3PZawY84",
        "outputId": "98a7d218-1a01-4803-aaf9-c78169516502",
        "colab": {
          "base_uri": "https://localhost:8080/",
          "height": 1000
        }
      },
      "execution_count": 92,
      "outputs": [
        {
          "output_type": "stream",
          "name": "stdout",
          "text": [
            "--- BLOQUE 20: Agregar Importancia de Características para 'geo_cluster' ---\n",
            "Importancia total agregada para 'geo_cluster': 0.3711\n",
            "\n",
            "Importancia de características (con 'geo_cluster' agregado) - Top 20:\n",
            "geo_cluster (Total)          0.371064\n",
            "size_x_latitude              0.142514\n",
            "size                         0.118235\n",
            "hasLift                      0.071480\n",
            "parking_status_None          0.061403\n",
            "size_x_inv_dist_catalunya    0.048470\n",
            "status_newdevelopment        0.033460\n",
            "baths_per_room               0.017010\n",
            "status_renew                 0.014348\n",
            "propertyType_studio          0.014184\n",
            "propertyType_duplex          0.013399\n",
            "dist_km_parc_guell           0.012979\n",
            "propertyType_penthouse       0.011946\n",
            "rooms                        0.010896\n",
            "propertyType_flat            0.010764\n",
            "dist_km_placa_catalunya      0.009537\n",
            "floor                        0.008995\n",
            "dist_km_camp_nou             0.008054\n",
            "exterior                     0.006634\n",
            "dist_km_sants_estacio        0.006435\n",
            "dtype: float64\n"
          ]
        },
        {
          "output_type": "display_data",
          "data": {
            "text/plain": [
              "<Figure size 1000x800 with 1 Axes>"
            ],
            "image/png": "[encoded data removed]"
          },
          "metadata": {}
        },
        {
          "output_type": "stream",
          "name": "stdout",
          "text": [
            "------------------------------\n"
          ]
        }
      ]
    },
    {
      "cell_type": "code",
      "source": [
        "# --- BLOQUE 20: Exportar el Modelo, Scaler y Columnas ---\n",
        "print(\"--- BLOQUE 20: Exportar el Modelo, Scaler y Columnas ---\")\n",
        "\n",
        "import joblib\n",
        "import os\n",
        "import pickle # Para guardar la lista de columnas\n",
        "\n",
        "# Asegurarse de que las variables necesarias existen\n",
        "if 'best_xgb_model' not in locals():\n",
        "     print(\"Error: No se encontró la variable 'best_xgb_model'. No se puede guardar el modelo.\")\n",
        "elif 'scaler' not in locals():\n",
        "     print(\"Error: No se encontró la variable 'scaler'. No se puede guardar el escalador.\")\n",
        "elif 'X_train' not in locals():\n",
        "      print(\"Error: No se encontró la variable 'X_train' para obtener los nombres de columnas.\")\n",
        "else:\n",
        "    # Definir la ruta de destino en Google Drive\n",
        "    export_path = '/content/drive/MyDrive/ModelosIdealista/'\n",
        "\n",
        "    # Crear el directorio si no existe\n",
        "    try:\n",
        "        os.makedirs(export_path, exist_ok=True)\n",
        "        print(f\"Directorio de destino asegurado: {export_path}\")\n",
        "    except OSError as e:\n",
        "        print(f\"Error al crear el directorio {export_path}: {e}\")\n",
        "        export_path = None # Indicar que no se puede guardar\n",
        "\n",
        "    if export_path:\n",
        "        # Definir nombres de archivo\n",
        "        model_filename = os.path.join(export_path, 'xgboost_pisos_barcelona_best_v1.joblib')\n",
        "        scaler_filename = os.path.join(export_path, 'scaler_pisos_barcelona_v1.joblib')\n",
        "        columns_filename = os.path.join(export_path, 'model_columns_v1.pkl')\n",
        "\n",
        "        try:\n",
        "            # Guardar el modelo XGBoost\n",
        "            joblib.dump(best_xgb_model, model_filename)\n",
        "            print(f\"Modelo XGBoost guardado exitosamente en: {model_filename}\")\n",
        "\n",
        "            # Guardar el Scaler\n",
        "            joblib.dump(scaler, scaler_filename)\n",
        "            print(f\"Scaler guardado exitosamente en: {scaler_filename}\")\n",
        "\n",
        "            # Guardar la lista de columnas (importante para predecir con nuevos datos)\n",
        "            model_columns = X_train.columns.tolist() # Obtener la lista de nombres de columnas\n",
        "            with open(columns_filename, 'wb') as f:\n",
        "                pickle.dump(model_columns, f)\n",
        "            print(f\"Lista de columnas del modelo guardada exitosamente en: {columns_filename}\")\n",
        "\n",
        "        except Exception as e:\n",
        "            print(f\"Ocurrió un error al guardar los archivos: {e}\")\n",
        "\n",
        "print(\"-\" * 30)"
      ],
      "metadata": {
        "id": "rl0I655ctSYo",
        "outputId": "e10f4040-ea19-4c98-8af1-7763d2d9d871",
        "colab": {
          "base_uri": "https://localhost:8080/"
        }
      },
      "execution_count": 91,
      "outputs": [
        {
          "output_type": "stream",
          "name": "stdout",
          "text": [
            "--- BLOQUE 20: Exportar el Modelo, Scaler y Columnas ---\n",
            "Directorio de destino asegurado: /content/drive/MyDrive/ModelosIdealista/\n",
            "Modelo XGBoost guardado exitosamente en: /content/drive/MyDrive/ModelosIdealista/xgboost_pisos_barcelona_best_v1.joblib\n",
            "Scaler guardado exitosamente en: /content/drive/MyDrive/ModelosIdealista/scaler_pisos_barcelona_v1.joblib\n",
            "Lista de columnas del modelo guardada exitosamente en: /content/drive/MyDrive/ModelosIdealista/model_columns_v1.pkl\n",
            "------------------------------\n"
          ]
        }
      ]
    }
  ]
}