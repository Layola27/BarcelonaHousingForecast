{
  "nbformat": 4,
  "nbformat_minor": 0,
  "metadata": {
    "colab": {
      "provenance": []
    },
    "kernelspec": {
      "name": "python3",
      "display_name": "Python 3"
    },
    "language_info": {
      "name": "python"
    }
  },
  "cells": [
    {
      "cell_type": "code",
      "execution_count": 1,
      "metadata": {
        "colab": {
          "base_uri": "https://localhost:8080/"
        },
        "id": "DL6nE_MhdgDr",
        "outputId": "e052b51a-61ee-41a5-d165-e1f4d59d4581"
      },
      "outputs": [
        {
          "output_type": "stream",
          "name": "stdout",
          "text": [
            "Mounted at /content/drive\n"
          ]
        }
      ],
      "source": [
        "from google.colab import drive\n",
        "drive.mount('/content/drive')"
      ]
    },
    {
      "cell_type": "code",
      "source": [
        "import pandas as pd\n",
        "file_path = \"/content/drive/MyDrive/Dataset Idealista/pisos_barcelona_unificado.csv\"\n",
        "df = pd.read_csv(file_path, encoding='latin1')"
      ],
      "metadata": {
        "id": "DU5OHY98yyHx"
      },
      "execution_count": 2,
      "outputs": []
    },
    {
      "cell_type": "markdown",
      "source": [
        "ELIMINAR INNECESARIAS"
      ],
      "metadata": {
        "id": "45GtHhT10_lO"
      }
    },
    {
      "cell_type": "code",
      "source": [
        "import pandas as pd\n",
        "\n",
        "# Asumiendo que tu DataFrame se llama 'df'\n",
        "columnas_a_eliminar = [\n",
        "    'thumbnail', 'externalReference', 'showAddress', 'distance',\n",
        "    'change', 'suggestedTexts', 'savedAd', 'notes'\n",
        "]\n",
        "\n",
        "# Elimina las columnas y actualiza df\n",
        "df = df.drop(columns=columnas_a_eliminar, errors='ignore')\n",
        "\n",
        "# Opcional: verifica las columnas restantes\n",
        "# print(df.columns)"
      ],
      "metadata": {
        "id": "U833MaDwzYZ3"
      },
      "execution_count": 3,
      "outputs": []
    },
    {
      "cell_type": "markdown",
      "source": [
        "CONVERTIR JSON"
      ],
      "metadata": {
        "id": "7ySFo9VE0vHn"
      }
    },
    {
      "cell_type": "code",
      "source": [
        "import pandas as pd\n",
        "import ast # Para evaluar strings como literales de Python de forma segura\n",
        "\n",
        "# Asumiendo que tu DataFrame se llama 'df'\n",
        "\n",
        "# --- Helper Function ---\n",
        "def safe_get_from_str_dict(string_dict, key, default=None):\n",
        "    \"\"\"\n",
        "    Intenta parsear un string que representa un dict y obtener un valor.\n",
        "    Maneja errores y valores no string/NaN.\n",
        "    \"\"\"\n",
        "    try:\n",
        "        # Si no es string o es NaN, retorna el default directamente\n",
        "        if not isinstance(string_dict, str) or pd.isna(string_dict):\n",
        "            return default\n",
        "        # Parsea el string a un diccionario\n",
        "        data = ast.literal_eval(string_dict)\n",
        "        # Si es un diccionario, obtén el valor; si no, retorna default\n",
        "        return data.get(key, default) if isinstance(data, dict) else default\n",
        "    except (ValueError, SyntaxError):\n",
        "        # Si el string no es un literal válido (ej: mal formado)\n",
        "        return default\n",
        "\n",
        "# --- Extracción ---\n",
        "\n",
        "# 1. De 'detailedType' obtener 'subTypology'\n",
        "df['subTypology'] = df['detailedType'].apply(lambda x: safe_get_from_str_dict(x, 'subTypology'))\n",
        "\n",
        "# 2. De 'parkingSpace' obtener 'hasParking' y 'isParkingIncludedInPrice'\n",
        "# Usamos default=False y convertimos a booleano explícitamente\n",
        "df['hasParking'] = df['parkingSpace'].apply(\n",
        "    lambda x: safe_get_from_str_dict(x, 'hasParkingSpace', default=False)\n",
        ").astype(bool)\n",
        "df['isParkingIncludedInPrice'] = df['parkingSpace'].apply(\n",
        "    lambda x: safe_get_from_str_dict(x, 'isParkingSpaceIncludedInPrice', default=False)\n",
        ").astype(bool)\n",
        "\n",
        "# 3. De 'highlight' obtener 'highlight_type'\n",
        "df['highlight_type'] = df['highlight'].apply(lambda x: safe_get_from_str_dict(x, 'groupDescription'))\n",
        "\n",
        "# --- Limpieza ---\n",
        "\n",
        "# 4. Eliminar las columnas originales\n",
        "df = df.drop(columns=['detailedType', 'parkingSpace', 'highlight'], errors='ignore')\n",
        "\n",
        "# --- Opcional: Verificar las nuevas columnas ---\n",
        "print(df[['subTypology', 'hasParking', 'isParkingIncludedInPrice', 'highlight_type']].head())\n",
        "print(df[['hasParking', 'isParkingIncludedInPrice']].dtypes) # Verificar que sean booleanas"
      ],
      "metadata": {
        "id": "Fh-klbTgzdff",
        "outputId": "468a85f9-485d-48a5-84df-f10aab2291cd",
        "colab": {
          "base_uri": "https://localhost:8080/"
        }
      },
      "execution_count": 4,
      "outputs": [
        {
          "output_type": "stream",
          "name": "stdout",
          "text": [
            "        subTypology  hasParking  isParkingIncludedInPrice highlight_type\n",
            "0              None       False                     False           None\n",
            "1              None       False                     False      Destacado\n",
            "2              None       False                     False      Destacado\n",
            "3  independantHouse       False                     False           None\n",
            "4              None       False                     False           None\n",
            "hasParking                  bool\n",
            "isParkingIncludedInPrice    bool\n",
            "dtype: object\n"
          ]
        }
      ]
    },
    {
      "cell_type": "code",
      "source": [
        "from datetime import datetime\n",
        "\n",
        "# Obtener fecha actual en formato dd-mm-aaaa\n",
        "fecha_actual = datetime.now().strftime('%d-%m-%Y')\n",
        "\n",
        "# Guardar el archivo con la fecha actual en el nombre\n",
        "output_path = f'/content/drive/MyDrive/Dataset Idealista/pisosBarcelona-{fecha_actual}-clean.csv'\n",
        "df.to_csv(output_path, index=False)\n",
        "\n",
        "print(f\"Archivo guardado en: {output_path}\")\n"
      ],
      "metadata": {
        "id": "tw515Fa_oTLW",
        "outputId": "4de3b1f2-be5b-44c3-f3cf-1835e3d94bc9",
        "colab": {
          "base_uri": "https://localhost:8080/"
        }
      },
      "execution_count": 6,
      "outputs": [
        {
          "output_type": "stream",
          "name": "stdout",
          "text": [
            "Archivo guardado en: /content/drive/MyDrive/Dataset Idealista/pisosBarcelona-21-04-2025-clean.csv\n"
          ]
        }
      ]
    }
  ]
}
