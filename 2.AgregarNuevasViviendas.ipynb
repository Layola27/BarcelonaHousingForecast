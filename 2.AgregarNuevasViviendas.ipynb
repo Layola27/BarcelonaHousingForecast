{
  "nbformat": 4,
  "nbformat_minor": 0,
  "metadata": {
    "colab": {
      "provenance": [],
      "mount_file_id": "1O7U-_e-9Nqdno8DUqIuWimdri37NLCGb",
      "authorship_tag": "ABX9TyPgOt8X5mik8dRmivQHCYQF"
    },
    "kernelspec": {
      "name": "python3",
      "display_name": "Python 3"
    },
    "language_info": {
      "name": "python"
    }
  },
  "cells": [
    {
      "cell_type": "code",
      "execution_count": 4,
      "metadata": {
        "id": "vFcNwz2pdCQt",
        "colab": {
          "base_uri": "https://localhost:8080/"
        },
        "outputId": "15dbff9e-dd0a-4881-d103-026e1a120074"
      },
      "outputs": [
        {
          "output_type": "stream",
          "name": "stdout",
          "text": [
            "Drive already mounted at /content/drive; to attempt to forcibly remount, call drive.mount(\"/content/drive\", force_remount=True).\n"
          ]
        }
      ],
      "source": [
        "from google.colab import drive\n",
        "drive.mount('/content/drive')"
      ]
    },
    {
      "cell_type": "code",
      "source": [
        "import pandas as pd\n",
        "\n",
        "# Cargar los archivos\n",
        "df1 = pd.read_csv('/content/drive/MyDrive/Dataset Idealista/pisosBarcelona-04-04-2025.csv')\n",
        "df2 = pd.read_csv('/content/drive/MyDrive/Dataset Idealista/pisos_barcelona.csv')"
      ],
      "metadata": {
        "id": "dGbodvy1ltcE"
      },
      "execution_count": 5,
      "outputs": []
    },
    {
      "cell_type": "code",
      "source": [
        "# Unir los dos DataFrames\n",
        "df_combined = pd.concat([df1, df2], ignore_index=True)\n",
        "\n",
        "# Eliminar duplicados basados en la columna 'propertycode'\n",
        "df_cleaned = df_combined.drop_duplicates(subset='propertyCode')\n",
        "\n",
        "# Guardar el resultado en un nuevo archivo CSV\n",
        "output_path = '/content/drive/MyDrive/Dataset Idealista/pisos_barcelona_unificado.csv'\n",
        "df_cleaned.to_csv(output_path, index=False)\n",
        "\n",
        "print(f\"Archivo guardado en: {output_path}\")\n"
      ],
      "metadata": {
        "id": "IQ-LrqAxlijh",
        "outputId": "4079e394-5fe0-4776-de56-ea4f38c35eff",
        "colab": {
          "base_uri": "https://localhost:8080/"
        }
      },
      "execution_count": 8,
      "outputs": [
        {
          "output_type": "stream",
          "name": "stdout",
          "text": [
            "Archivo guardado en: /content/drive/MyDrive/Dataset Idealista/pisos_barcelona_unificado.csv\n"
          ]
        }
      ]
    }
  ]
}
